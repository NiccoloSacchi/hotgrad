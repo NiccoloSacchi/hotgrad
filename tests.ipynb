{
 "cells": [
  {
   "cell_type": "code",
   "execution_count": null,
   "metadata": {},
   "outputs": [],
   "source": [
    "from hotgrad.variable import Variable\n",
    "\n",
    "from torch import FloatTensor\n",
    "from torch.autograd import Variable as tVariable\n",
    "from torch.nn.functional import relu, tanh\n",
    "\n",
    "from numpy import isclose\n",
    "\n",
    "import matplotlib.pylab as plt\n",
    "\n",
    "from dataset_generator import generate_dataset\n",
    "\n",
    "import numpy as np\n",
    "%matplotlib inline"
   ]
  },
  {
   "cell_type": "markdown",
   "metadata": {},
   "source": [
    "Modules to be tested:\n",
    "\n",
    "**Operands**:\n",
    "- <font color=green>add</font>\n",
    "- <font color=green>sub</font>\n",
    "- <font color=green>mul</font>\n",
    "- <font color=green>matmul</font>\n",
    "- <font color=green>pow</font>\n",
    "- <font color=green>mean</font>\n",
    "\n",
    "**Layers**:\n",
    "- linear\n",
    "\n",
    "**Losses**:\n",
    "- MSE\n",
    "\n",
    "**Activations**:\n",
    "- <font color=green>ReLU</font>\n",
    "- <font color=green>Tanh</font>"
   ]
  },
  {
   "cell_type": "code",
   "execution_count": null,
   "metadata": {},
   "outputs": [],
   "source": [
    "X_train, X_test, y_train, y_test = generate_dataset()\n",
    "\n",
    "plt.scatter(X_train[:, 0], X_train[:, 1], c=y_train)\n",
    "plt.show()\n",
    "plt.scatter(X_test[:, 0], X_test[:, 1], c=y_test)\n",
    "\n",
    "# X_train.shape, X_test.shape, y_train.shape, y_test.shape"
   ]
  },
  {
   "cell_type": "markdown",
   "metadata": {},
   "source": [
    "### Test 2D"
   ]
  },
  {
   "cell_type": "code",
   "execution_count": null,
   "metadata": {},
   "outputs": [],
   "source": [
    "def chain(var1, var2, var3, var4, var5):\n",
    "    temp = (var1.pow(2) + var2 - var3 - var3).pow(3)\n",
    "    \n",
    "    if isinstance(var1, Variable):\n",
    "        temp = temp.relu()\n",
    "    else:\n",
    "        temp = relu(temp)\n",
    "    temp = ((temp*var1) @ var4) - var5\n",
    "\n",
    "    if isinstance(var1, Variable):\n",
    "        temp = temp.tanh()\n",
    "    else:\n",
    "        temp = tanh(temp)\n",
    "\n",
    "    temp = ((temp + var5) * var5).pow(3)\n",
    "    return temp.mean()\n",
    "\n",
    "max_ = 10\n",
    "n_tests = 10\n",
    "\n",
    "correct = True\n",
    "for i in range(n_tests):\n",
    "    dim1 = np.random.randint(1, max_)\n",
    "    dim2 = np.random.randint(1, max_)\n",
    "    dim3 = np.random.randint(1, max_)\n",
    "\n",
    "    var1 = FloatTensor(dim1, dim2).uniform_(-100, 100) \n",
    "    var2 = FloatTensor(dim1, dim2).uniform_(-100, 100) \n",
    "    var3 = FloatTensor(dim1, dim2).uniform_(-100, 100) \n",
    "    var4 = FloatTensor(dim2, dim3).uniform_(-100, 100) \n",
    "    var5 = FloatTensor(dim1, dim3).uniform_(-100, 100) \n",
    "\n",
    "    a, b, c, d, e = Variable(var1, requires_grad=True), Variable(var2, requires_grad=True), Variable(var3, requires_grad=True), Variable(var4, requires_grad=True), Variable(var5, requires_grad=True)\n",
    "    res = chain(a, b, c, d, e)\n",
    "\n",
    "    ta, tb, tc, td, te = tVariable(var1, requires_grad=True), tVariable(var2, requires_grad=True), tVariable(var3, requires_grad=True), tVariable(var4, requires_grad=True), tVariable(var5, requires_grad=True)\n",
    "    tres = chain(ta, tb, tc, td, te)\n",
    "\n",
    "    res.backward()\n",
    "    tres.backward()\n",
    "\n",
    "    correct = correct and isclose(res.data, tres.data, atol=0).all()\n",
    "    correct = correct and isclose(a.grad, ta.grad.data, atol=0).all()\n",
    "    correct = correct and isclose(b.grad, tb.grad.data, atol=0).all()\n",
    "    correct = correct and isclose(c.grad, tc.grad.data, atol=0).all()\n",
    "    correct = correct and isclose(d.grad, td.grad.data, atol=0).all()\n",
    "    \n",
    "    if not correct:\n",
    "        print(\"ERROR! :(\")\n",
    "        break\n",
    "        \n",
    "if correct:\n",
    "    print(\"good boy! :)\")"
   ]
  }
 ],
 "metadata": {
  "kernelspec": {
   "display_name": "Python [conda env:ada]",
   "language": "python",
   "name": "conda-env-ada-py"
  },
  "language_info": {
   "codemirror_mode": {
    "name": "ipython",
    "version": 3
   },
   "file_extension": ".py",
   "mimetype": "text/x-python",
   "name": "python",
   "nbconvert_exporter": "python",
   "pygments_lexer": "ipython3",
   "version": "3.6.3"
  }
 },
 "nbformat": 4,
 "nbformat_minor": 2
}
