{
 "cells": [
  {
   "cell_type": "code",
   "execution_count": 1,
   "metadata": {},
   "outputs": [],
   "source": [
    "import torch\n",
    "from torch import Tensor\n",
    "import module\n",
    "import loss\n",
    "import variable\n",
    "import linear\n",
    "from variable import Variable\n",
    "from torch.nn import MSELoss, CrossEntropyLoss"
   ]
  },
  {
   "cell_type": "code",
   "execution_count": 2,
   "metadata": {},
   "outputs": [],
   "source": [
    "generalLoss = MSELoss()\n",
    "generalLoss\n",
    "crossEntropy = CrossEntropyLoss()"
   ]
  },
  {
   "cell_type": "code",
   "execution_count": 3,
   "metadata": {},
   "outputs": [
    {
     "data": {
      "text/plain": [
       "<loss.LossMSE at 0x7f37483fd240>"
      ]
     },
     "execution_count": 3,
     "metadata": {},
     "output_type": "execute_result"
    }
   ],
   "source": [
    "mse_loss = loss.LossMSE()\n",
    "mse_loss"
   ]
  },
  {
   "cell_type": "code",
   "execution_count": 4,
   "metadata": {},
   "outputs": [
    {
     "data": {
      "text/plain": [
       "(\n",
       "  0.2620\n",
       "  0.3478\n",
       "  0.5424\n",
       " [torch.FloatTensor of size 3x1], \n",
       " -1.8920\n",
       " -1.2035\n",
       " -0.8850\n",
       " [torch.FloatTensor of size 3x1])"
      ]
     },
     "execution_count": 4,
     "metadata": {},
     "output_type": "execute_result"
    }
   ],
   "source": [
    "randomTensor1, randomTensor2 = Tensor(3,1).normal_(), Tensor(3,1).normal_()\n",
    "randomTensor1, randomTensor2"
   ]
  },
  {
   "cell_type": "code",
   "execution_count": 5,
   "metadata": {},
   "outputs": [],
   "source": [
    "#(randomTensor1 - randomTensor2).pow(2).mean(0), mse_loss.forward(randomTensor1, randomTensor2), generalLoss(Variable(randomTensor1), Variable(randomTensor2))"
   ]
  },
  {
   "cell_type": "code",
   "execution_count": 5,
   "metadata": {},
   "outputs": [],
   "source": [
    "#Variable((3, 4)), Tensor((3, 4))\n",
    "tensor = Tensor(20,5)\n",
    "linearModule = linear.Linear(5, 4)"
   ]
  },
  {
   "cell_type": "code",
   "execution_count": 15,
   "metadata": {},
   "outputs": [
    {
     "data": {
      "text/plain": [
       "\n",
       " 8.5616e+12  4.5636e-41 -4.5888e+05  3.0798e-41\n",
       " 3.3129e-18  7.2646e+22  7.2250e+28  2.5226e-18\n",
       " 2.3877e-18  2.6302e+20  6.1949e-04  2.5640e-09\n",
       " 1.6408e-07  3.0957e+12  6.9363e-07  2.5790e-09\n",
       " 2.6659e-09  1.2610e+16  5.4916e-34  1.5411e-31\n",
       "[variable.Variable of size 5x4]"
      ]
     },
     "execution_count": 15,
     "metadata": {},
     "output_type": "execute_result"
    }
   ],
   "source": [
    "linearModule.weight"
   ]
  },
  {
   "cell_type": "code",
   "execution_count": 11,
   "metadata": {},
   "outputs": [
    {
     "data": {
      "text/plain": [
       "\n",
       " 7.3303e+25  3.3042e+36 -3.9289e+18  2.1952e+04\n",
       " 5.7141e+35         inf         inf  1.9485e+20\n",
       " 1.4649e+38         inf         inf  1.1992e+13\n",
       " 2.0434e+21         inf         inf  3.2054e+19\n",
       "        inf         inf -2.1762e+36  4.7016e+22\n",
       "        inf         inf         inf  1.9080e+14\n",
       " 2.9820e+24         inf  5.9234e+25  4.6871e+22\n",
       "        inf         inf         inf  4.7101e+16\n",
       " 1.2644e+22         inf  9.7993e+09  7.3090e-01\n",
       " 2.5653e+25         inf         inf  1.9021e+11\n",
       " 6.9185e+30         inf  9.0172e+27  3.3528e+25\n",
       " 2.6181e+18         inf  1.3838e+19  4.1163e+16\n",
       " 2.1331e+27         inf  9.0176e+27  3.3528e+25\n",
       " 1.0856e-01  1.0837e+16  1.0778e+22  6.0094e-18\n",
       " 1.1617e-06  2.4515e+12  9.7941e+09  2.3898e-17\n",
       " 1.1606e-06  2.7084e+15  2.6936e+21  9.4787e-26\n",
       "        inf         inf         inf  1.8749e+20\n",
       " 2.4485e+05         inf         inf  1.8644e+05\n",
       " 1.4015e+03         inf         inf  6.9937e+02\n",
       " 3.4867e+15         inf         inf  3.1830e+19\n",
       "[torch.FloatTensor of size 20x4]"
      ]
     },
     "execution_count": 11,
     "metadata": {},
     "output_type": "execute_result"
    }
   ],
   "source": [
    "linearModule.forward(tensor)"
   ]
  }
 ],
 "metadata": {
  "kernelspec": {
   "display_name": "Python 3",
   "language": "python",
   "name": "python3"
  },
  "language_info": {
   "codemirror_mode": {
    "name": "ipython",
    "version": 3
   },
   "file_extension": ".py",
   "mimetype": "text/x-python",
   "name": "python",
   "nbconvert_exporter": "python",
   "pygments_lexer": "ipython3",
   "version": "3.6.4"
  }
 },
 "nbformat": 4,
 "nbformat_minor": 2
}
