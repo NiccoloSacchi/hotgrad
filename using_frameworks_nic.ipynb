{
 "cells": [
  {
   "cell_type": "markdown",
   "metadata": {},
   "source": [
    "### Test basic operators"
   ]
  },
  {
   "cell_type": "markdown",
   "metadata": {},
   "source": [
    "### [python operators](https://docs.python.org/2/library/operator.html)"
   ]
  },
  {
   "cell_type": "code",
   "execution_count": 1,
   "metadata": {},
   "outputs": [],
   "source": [
    "from hotgrad.variable import Variable\n",
    "from torch import FloatTensor\n",
    "from torch.autograd import Variable as tVariable\n",
    "\n",
    "%load_ext autoreload\n",
    "%autoreload 2"
   ]
  },
  {
   "cell_type": "markdown",
   "metadata": {},
   "source": [
    "### Test multiplication (element-wise)"
   ]
  },
  {
   "cell_type": "markdown",
   "metadata": {},
   "source": [
    "**True**"
   ]
  },
  {
   "cell_type": "code",
   "execution_count": 3,
   "metadata": {},
   "outputs": [
    {
     "name": "stdout",
     "output_type": "stream",
     "text": [
      "True\n",
      "True\n"
     ]
    }
   ],
   "source": [
    "x = FloatTensor(1).random_(100)\n",
    "y = FloatTensor(1).random_(100)\n",
    "\n",
    "a = Variable(x, requires_grad=True)\n",
    "b = Variable(y, requires_grad=True)\n",
    "c = a*b\n",
    "c.backward()\n",
    "\n",
    "ta = tVariable(x, requires_grad=True)\n",
    "tb = tVariable(y, requires_grad=True)\n",
    "tc = ta*tb\n",
    "tc.backward()\n",
    "\n",
    "# print(ta.grad, tb.grad)\n",
    "# print(a.grad, b.grad)\n",
    "\n",
    "print((ta.grad.data == a.grad).all())\n",
    "print((tb.grad.data == b.grad).all())"
   ]
  },
  {
   "cell_type": "markdown",
   "metadata": {},
   "source": [
    "**Assertion error (broadcasting)**"
   ]
  },
  {
   "cell_type": "code",
   "execution_count": null,
   "metadata": {},
   "outputs": [],
   "source": [
    "x = FloatTensor(2).random_(100)\n",
    "y = FloatTensor(1).random_(100)\n",
    "\n",
    "a = Variable(x, requires_grad=True)\n",
    "b = Variable(y, requires_grad=True)\n",
    "c = a*b"
   ]
  },
  {
   "cell_type": "markdown",
   "metadata": {},
   "source": [
    "### Test mean"
   ]
  },
  {
   "cell_type": "markdown",
   "metadata": {},
   "source": [
    "**True**"
   ]
  },
  {
   "cell_type": "code",
   "execution_count": 9,
   "metadata": {},
   "outputs": [
    {
     "name": "stdout",
     "output_type": "stream",
     "text": [
      "True\n",
      "True\n"
     ]
    }
   ],
   "source": [
    "x = FloatTensor(2, 4).random_(100)\n",
    "y = FloatTensor(2, 4).random_(100)\n",
    "\n",
    "a = Variable(x, requires_grad=True)\n",
    "b = Variable(y, requires_grad=True)\n",
    "c = (a*b).mean()\n",
    "c.backward()\n",
    "\n",
    "\n",
    "ta = tVariable(x, requires_grad=True)\n",
    "tb = tVariable(y, requires_grad=True)\n",
    "tc = (ta*tb).mean()\n",
    "tc.backward()\n",
    "\n",
    "# print(ta.grad, tb.grad)\n",
    "# print(a.grad, b.grad)\n",
    "\n",
    "print((ta.grad.data == a.grad).all())\n",
    "print((tb.grad.data == b.grad).all())"
   ]
  },
  {
   "cell_type": "markdown",
   "metadata": {},
   "source": [
    "### Test MatMul"
   ]
  },
  {
   "cell_type": "markdown",
   "metadata": {},
   "source": [
    "**True**"
   ]
  },
  {
   "cell_type": "code",
   "execution_count": 2,
   "metadata": {},
   "outputs": [
    {
     "name": "stdout",
     "output_type": "stream",
     "text": [
      "True\n",
      "True\n"
     ]
    }
   ],
   "source": [
    "D1, D2, D3 = 4, 5, 6\n",
    "x = FloatTensor(D1, D2).random_(100)\n",
    "y = FloatTensor(D2, D3).random_(100)\n",
    "\n",
    "a = Variable(x, requires_grad=True)\n",
    "b = Variable(y, requires_grad=True)\n",
    "c = (a@b).mean()\n",
    "c.backward()\n",
    "\n",
    "\n",
    "ta = tVariable(x, requires_grad=True)\n",
    "tb = tVariable(y, requires_grad=True)\n",
    "tc = (ta@tb).mean()\n",
    "tc.backward()\n",
    "\n",
    "# print(ta.grad, tb.grad)\n",
    "# print(a.grad, b.grad)\n",
    "\n",
    "print((ta.grad.data == a.grad).all())\n",
    "print((tb.grad.data == b.grad).all())"
   ]
  },
  {
   "cell_type": "markdown",
   "metadata": {},
   "source": [
    "**Assertion error (bad shapes)**"
   ]
  },
  {
   "cell_type": "code",
   "execution_count": null,
   "metadata": {},
   "outputs": [],
   "source": [
    "x = FloatTensor(2, 4).random_(100)\n",
    "y = FloatTensor(2, 2).random_(100)\n",
    "\n",
    "a = Variable(x, requires_grad=True)\n",
    "b = Variable(y, requires_grad=True)\n",
    "c = a @ b"
   ]
  },
  {
   "cell_type": "code",
   "execution_count": 64,
   "metadata": {},
   "outputs": [
    {
     "name": "stdout",
     "output_type": "stream",
     "text": [
      "sub\n",
      "add\n",
      "div\n",
      "pow\n"
     ]
    }
   ],
   "source": [
    "a = Variable(FloatTensor([2]))\n",
    "b = Variable(FloatTensor([10]))\n",
    "a*b\n",
    "a-b\n",
    "a+b\n",
    "a/b\n",
    "a@b\n",
    "a**4"
   ]
  }
 ],
 "metadata": {
  "kernelspec": {
   "display_name": "Python [default]",
   "language": "python",
   "name": "python3"
  },
  "language_info": {
   "codemirror_mode": {
    "name": "ipython",
    "version": 3
   },
   "file_extension": ".py",
   "mimetype": "text/x-python",
   "name": "python",
   "nbconvert_exporter": "python",
   "pygments_lexer": "ipython3",
   "version": "3.6.3"
  }
 },
 "nbformat": 4,
 "nbformat_minor": 2
}
