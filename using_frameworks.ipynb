{
 "cells": [
  {
   "cell_type": "code",
   "execution_count": 1,
   "metadata": {},
   "outputs": [],
   "source": [
    "import torch\n",
    "from torch import Tensor\n",
    "import module\n",
    "import loss\n",
    "import linear\n",
    "from torch.nn import CrossEntropyLoss"
   ]
  },
  {
   "cell_type": "code",
   "execution_count": 2,
   "metadata": {},
   "outputs": [],
   "source": [
    "#generalLoss = MSELoss()\n",
    "#generalLoss\n",
    "crossEntropy = CrossEntropyLoss()"
   ]
  },
  {
   "cell_type": "code",
   "execution_count": 3,
   "metadata": {},
   "outputs": [
    {
     "data": {
      "text/plain": [
       "<loss.LossMSE at 0x7ff9c6e32048>"
      ]
     },
     "execution_count": 3,
     "metadata": {},
     "output_type": "execute_result"
    }
   ],
   "source": [
    "mse_loss = loss.LossMSE()\n",
    "mse_loss"
   ]
  },
  {
   "cell_type": "code",
   "execution_count": 4,
   "metadata": {},
   "outputs": [
    {
     "data": {
      "text/plain": [
       "\n",
       " 0.1327\n",
       "[torch.FloatTensor of size 1]"
      ]
     },
     "execution_count": 4,
     "metadata": {},
     "output_type": "execute_result"
    }
   ],
   "source": [
    "randomTensor1, randomTensor2 = Tensor(3,1).normal_(), Tensor(3,1).normal_()\n",
    "randomTensor1, randomTensor2\n",
    "mse_loss.forward(randomTensor1, randomTensor2)"
   ]
  },
  {
   "cell_type": "code",
   "execution_count": 5,
   "metadata": {},
   "outputs": [],
   "source": [
    "#(randomTensor1 - randomTensor2).pow(2).mean(0), mse_loss.forward(randomTensor1, randomTensor2), generalLoss(Variable(randomTensor1), Variable(randomTensor2))"
   ]
  },
  {
   "cell_type": "code",
   "execution_count": 6,
   "metadata": {},
   "outputs": [],
   "source": [
    "#Variable((3, 4)), Tensor((3, 4))\n",
    "tensor = Tensor(20,5)\n",
    "linearModule = linear.Linear(5, 4)"
   ]
  },
  {
   "cell_type": "code",
   "execution_count": 15,
   "metadata": {},
   "outputs": [
    {
     "data": {
      "text/plain": [
       "\n",
       " 8.5616e+12  4.5636e-41 -4.5888e+05  3.0798e-41\n",
       " 3.3129e-18  7.2646e+22  7.2250e+28  2.5226e-18\n",
       " 2.3877e-18  2.6302e+20  6.1949e-04  2.5640e-09\n",
       " 1.6408e-07  3.0957e+12  6.9363e-07  2.5790e-09\n",
       " 2.6659e-09  1.2610e+16  5.4916e-34  1.5411e-31\n",
       "[variable.Variable of size 5x4]"
      ]
     },
     "execution_count": 15,
     "metadata": {},
     "output_type": "execute_result"
    }
   ],
   "source": [
    "linearModule.weight"
   ]
  },
  {
   "cell_type": "code",
   "execution_count": 20,
   "metadata": {},
   "outputs": [],
   "source": [
    "t = randomTensor1.clone()"
   ]
  },
  {
   "cell_type": "code",
   "execution_count": 21,
   "metadata": {},
   "outputs": [],
   "source": [
    "t += 10"
   ]
  },
  {
   "cell_type": "code",
   "execution_count": 47,
   "metadata": {},
   "outputs": [
    {
     "data": {
      "text/plain": [
       "\n",
       "1.00000e-02 *\n",
       "  4.9787\n",
       "  4.9787\n",
       "  4.9787\n",
       "[torch.FloatTensor of size 3x1]"
      ]
     },
     "execution_count": 47,
     "metadata": {},
     "output_type": "execute_result"
    }
   ],
   "source": [
    "(-(Tensor(t.size()).fill_(1) * Tensor(t.size()).fill_(3))).exp()"
   ]
  },
  {
   "cell_type": "code",
   "execution_count": 45,
   "metadata": {},
   "outputs": [
    {
     "data": {
      "text/plain": [
       "\n",
       " 1.0000e+00\n",
       " 1.0000e+00\n",
       " 1.3456e+09\n",
       "[torch.FloatTensor of size 3x1]"
      ]
     },
     "execution_count": 45,
     "metadata": {},
     "output_type": "execute_result"
    }
   ],
   "source": [
    "from math import exp\n",
    "t.exp()"
   ]
  }
 ],
 "metadata": {
  "kernelspec": {
   "display_name": "Python 3",
   "language": "python",
   "name": "python3"
  },
  "language_info": {
   "codemirror_mode": {
    "name": "ipython",
    "version": 3
   },
   "file_extension": ".py",
   "mimetype": "text/x-python",
   "name": "python",
   "nbconvert_exporter": "python",
   "pygments_lexer": "ipython3",
   "version": "3.6.4"
  }
 },
 "nbformat": 4,
 "nbformat_minor": 2
}
