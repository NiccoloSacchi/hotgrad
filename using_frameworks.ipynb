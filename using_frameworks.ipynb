{
 "cells": [
  {
   "cell_type": "code",
   "execution_count": 1,
   "metadata": {
    "collapsed": true
   },
   "outputs": [],
   "source": [
    "# import torch\n",
    "from torch import FloatTensor, is_tensor\n",
    "from hotgrad.functions import layers, activations, losses, operands\n",
    "from torch.nn import CrossEntropyLoss\n",
    "from torch.autograd import Variable as tVariable"
   ]
  },
  {
   "cell_type": "code",
   "execution_count": 2,
   "metadata": {
    "collapsed": true
   },
   "outputs": [],
   "source": [
    "#generalLoss = MSELoss()\n",
    "#generalLoss\n",
    "crossEntropy = CrossEntropyLoss()"
   ]
  },
  {
   "cell_type": "code",
   "execution_count": 3,
   "metadata": {},
   "outputs": [
    {
     "data": {
      "text/plain": [
       "<TheBestItalianDeepFramework.losses.MSE at 0x7fc2eaeaccf8>"
      ]
     },
     "execution_count": 3,
     "metadata": {},
     "output_type": "execute_result"
    }
   ],
   "source": [
    "mse_loss = losses.MSE()\n",
    "mse_loss"
   ]
  },
  {
   "cell_type": "code",
   "execution_count": 4,
   "metadata": {},
   "outputs": [
    {
     "data": {
      "text/plain": [
       "\n",
       " 0.1327\n",
       "[torch.FloatTensor of size 1]"
      ]
     },
     "execution_count": 4,
     "metadata": {},
     "output_type": "execute_result"
    }
   ],
   "source": [
    "randomTensor1, randomTensor2 = Tensor(3,1).normal_(), Tensor(3,1).normal_()\n",
    "randomTensor1, randomTensor2\n",
    "mse_loss.forward(randomTensor1, randomTensor2)"
   ]
  },
  {
   "cell_type": "code",
   "execution_count": 5,
   "metadata": {
    "collapsed": true
   },
   "outputs": [],
   "source": [
    "#(randomTensor1 - randomTensor2).pow(2).mean(0), mse_loss.forward(randomTensor1, randomTensor2), generalLoss(Variable(randomTensor1), Variable(randomTensor2))"
   ]
  },
  {
   "cell_type": "code",
   "execution_count": 6,
   "metadata": {
    "collapsed": true
   },
   "outputs": [],
   "source": [
    "#Variable((3, 4)), Tensor((3, 4))\n",
    "tensor = Tensor(20,5)\n",
    "linearModule = linear.Linear(5, 4)"
   ]
  },
  {
   "cell_type": "code",
   "execution_count": 15,
   "metadata": {},
   "outputs": [
    {
     "data": {
      "text/plain": [
       "\n",
       " 8.5616e+12  4.5636e-41 -4.5888e+05  3.0798e-41\n",
       " 3.3129e-18  7.2646e+22  7.2250e+28  2.5226e-18\n",
       " 2.3877e-18  2.6302e+20  6.1949e-04  2.5640e-09\n",
       " 1.6408e-07  3.0957e+12  6.9363e-07  2.5790e-09\n",
       " 2.6659e-09  1.2610e+16  5.4916e-34  1.5411e-31\n",
       "[variable.Variable of size 5x4]"
      ]
     },
     "execution_count": 15,
     "metadata": {},
     "output_type": "execute_result"
    }
   ],
   "source": [
    "linearModule.weight"
   ]
  },
  {
   "cell_type": "code",
   "execution_count": 20,
   "metadata": {
    "collapsed": true
   },
   "outputs": [],
   "source": [
    "t = randomTensor1.clone()"
   ]
  },
  {
   "cell_type": "code",
   "execution_count": 21,
   "metadata": {
    "collapsed": true
   },
   "outputs": [],
   "source": [
    "t += 10"
   ]
  },
  {
   "cell_type": "code",
   "execution_count": 47,
   "metadata": {},
   "outputs": [
    {
     "data": {
      "text/plain": [
       "\n",
       "1.00000e-02 *\n",
       "  4.9787\n",
       "  4.9787\n",
       "  4.9787\n",
       "[torch.FloatTensor of size 3x1]"
      ]
     },
     "execution_count": 47,
     "metadata": {},
     "output_type": "execute_result"
    }
   ],
   "source": [
    "(-(Tensor(t.size()).fill_(1) * Tensor(t.size()).fill_(3))).exp()"
   ]
  },
  {
   "cell_type": "code",
   "execution_count": 45,
   "metadata": {},
   "outputs": [
    {
     "data": {
      "text/plain": [
       "\n",
       " 1.0000e+00\n",
       " 1.0000e+00\n",
       " 1.3456e+09\n",
       "[torch.FloatTensor of size 3x1]"
      ]
     },
     "execution_count": 45,
     "metadata": {},
     "output_type": "execute_result"
    }
   ],
   "source": [
    "from math import exp\n",
    "t.exp()"
   ]
  },
  {
   "cell_type": "markdown",
   "metadata": {},
   "source": [
    "### Test basic operators"
   ]
  },
  {
   "cell_type": "markdown",
   "metadata": {},
   "source": [
    "### [python operators](https://docs.python.org/2/library/operator.html)"
   ]
  },
  {
   "cell_type": "code",
   "execution_count": 2,
   "metadata": {
    "collapsed": true
   },
   "outputs": [],
   "source": [
    "from hotgrad.variable import Variable\n",
    "from torch import FloatTensor\n",
    "from torch.autograd import Variable as tVariable\n",
    "\n",
    "%load_ext autoreload\n",
    "%autoreload 2"
   ]
  },
  {
   "cell_type": "code",
   "execution_count": null,
   "metadata": {
    "collapsed": true
   },
   "outputs": [],
   "source": [
    "# test multiplication\n",
    "x = FloatTensor(1).random_(100)\n",
    "y = FloatTensor(1).random_(100)\n",
    "\n",
    "a = Variable(x, requires_grad=True)\n",
    "b = Variable(y, requires_grad=True)\n",
    "c = a*b\n",
    "c.backward()\n",
    "\n",
    "ta = tVariable(x, requires_grad=True)\n",
    "tb = tVariable(y, requires_grad=True)\n",
    "tc = ta*tb\n",
    "tc.backward()\n",
    "\n",
    "print(ta.grad, tb.grad)\n",
    "print(a.grad, b.grad)"
   ]
  },
  {
   "cell_type": "code",
   "execution_count": 63,
   "metadata": {},
   "outputs": [
    {
     "name": "stdout",
     "output_type": "stream",
     "text": [
      "\n",
      " 1  1  1  1\n",
      " 1  1  1  1\n",
      "[torch.ByteTensor of size 2x4]\n",
      "\n",
      "\n",
      " 1  1  1  1\n",
      " 1  1  1  1\n",
      "[torch.ByteTensor of size 2x4]\n",
      "\n"
     ]
    }
   ],
   "source": [
    "x = FloatTensor(2, 4).random_(100)\n",
    "y = FloatTensor(2, 4).random_(100)\n",
    "# print(x, y)\n",
    "\n",
    "a = Variable(x, requires_grad=True)\n",
    "b = Variable(y, requires_grad=True)\n",
    "c = (a*b).mean()\n",
    "c.backward()\n",
    "\n",
    "\n",
    "ta = tVariable(x, requires_grad=True)\n",
    "tb = tVariable(y, requires_grad=True)\n",
    "tc = (ta*tb).mean()\n",
    "tc.backward()\n",
    "\n",
    "# print(ta.grad, tb.grad)\n",
    "# print(a.grad, b.grad)\n",
    "print(ta.grad.data == a.grad)\n",
    "print(tb.grad.data == b.grad)"
   ]
  },
  {
   "cell_type": "code",
   "execution_count": 282,
   "metadata": {},
   "outputs": [
    {
     "name": "stdout",
     "output_type": "stream",
     "text": [
      "mul\n"
     ]
    },
    {
     "data": {
      "text/plain": [
       "(Variable containing:\n",
       "  20\n",
       "  40\n",
       " [torch.FloatTensor of size 2], Mul operator:\n",
       " \n",
       " ------ Left operand ------\n",
       " Variable containing:\n",
       "  2\n",
       "  4\n",
       " [torch.FloatTensor of size 2]\n",
       " --------------------------\n",
       " \n",
       " ------ Right operand ------\n",
       " Variable containing:\n",
       "  10\n",
       " [torch.FloatTensor of size 1]\n",
       " --------------------------)"
      ]
     },
     "execution_count": 282,
     "metadata": {},
     "output_type": "execute_result"
    }
   ],
   "source": [
    "a = Variable(FloatTensor([2, 4]))\n",
    "b = Variable(FloatTensor([10]))\n",
    "c = a*b\n",
    "\n",
    "c, c.previous_op"
   ]
  },
  {
   "cell_type": "code",
   "execution_count": 264,
   "metadata": {},
   "outputs": [
    {
     "ename": "RuntimeError",
     "evalue": "grad can be implicitly created only for scalar outputs",
     "output_type": "error",
     "traceback": [
      "\u001b[0;31m---------------------------------------------------------------------------\u001b[0m",
      "\u001b[0;31mRuntimeError\u001b[0m                              Traceback (most recent call last)",
      "\u001b[0;32m<ipython-input-264-4cbf2af4d645>\u001b[0m in \u001b[0;36m<module>\u001b[0;34m()\u001b[0m\n\u001b[1;32m      2\u001b[0m \u001b[0mb\u001b[0m \u001b[0;34m=\u001b[0m \u001b[0mtVariable\u001b[0m\u001b[0;34m(\u001b[0m\u001b[0mFloatTensor\u001b[0m\u001b[0;34m(\u001b[0m\u001b[0;34m[\u001b[0m\u001b[0;36m10\u001b[0m\u001b[0;34m]\u001b[0m\u001b[0;34m)\u001b[0m\u001b[0;34m,\u001b[0m \u001b[0mrequires_grad\u001b[0m\u001b[0;34m=\u001b[0m\u001b[0;32mTrue\u001b[0m\u001b[0;34m)\u001b[0m\u001b[0;34m\u001b[0m\u001b[0m\n\u001b[1;32m      3\u001b[0m \u001b[0mc\u001b[0m \u001b[0;34m=\u001b[0m \u001b[0ma\u001b[0m\u001b[0;34m*\u001b[0m\u001b[0mb\u001b[0m\u001b[0;34m\u001b[0m\u001b[0m\n\u001b[0;32m----> 4\u001b[0;31m \u001b[0mc\u001b[0m\u001b[0;34m.\u001b[0m\u001b[0mbackward\u001b[0m\u001b[0;34m(\u001b[0m\u001b[0;34m)\u001b[0m\u001b[0;34m\u001b[0m\u001b[0m\n\u001b[0m\u001b[1;32m      5\u001b[0m \u001b[0ma\u001b[0m\u001b[0;34m.\u001b[0m\u001b[0mgrad\u001b[0m\u001b[0;34m,\u001b[0m \u001b[0mb\u001b[0m\u001b[0;34m.\u001b[0m\u001b[0mgrad\u001b[0m\u001b[0;34m\u001b[0m\u001b[0m\n",
      "\u001b[0;32m~/anaconda3/envs/ada/lib/python3.6/site-packages/torch/autograd/variable.py\u001b[0m in \u001b[0;36mbackward\u001b[0;34m(self, gradient, retain_graph, create_graph, retain_variables)\u001b[0m\n\u001b[1;32m    165\u001b[0m                 \u001b[0mVariable\u001b[0m\u001b[0;34m.\u001b[0m\u001b[0;34m\u001b[0m\u001b[0m\n\u001b[1;32m    166\u001b[0m         \"\"\"\n\u001b[0;32m--> 167\u001b[0;31m         \u001b[0mtorch\u001b[0m\u001b[0;34m.\u001b[0m\u001b[0mautograd\u001b[0m\u001b[0;34m.\u001b[0m\u001b[0mbackward\u001b[0m\u001b[0;34m(\u001b[0m\u001b[0mself\u001b[0m\u001b[0;34m,\u001b[0m \u001b[0mgradient\u001b[0m\u001b[0;34m,\u001b[0m \u001b[0mretain_graph\u001b[0m\u001b[0;34m,\u001b[0m \u001b[0mcreate_graph\u001b[0m\u001b[0;34m,\u001b[0m \u001b[0mretain_variables\u001b[0m\u001b[0;34m)\u001b[0m\u001b[0;34m\u001b[0m\u001b[0m\n\u001b[0m\u001b[1;32m    168\u001b[0m \u001b[0;34m\u001b[0m\u001b[0m\n\u001b[1;32m    169\u001b[0m     \u001b[0;32mdef\u001b[0m \u001b[0mregister_hook\u001b[0m\u001b[0;34m(\u001b[0m\u001b[0mself\u001b[0m\u001b[0;34m,\u001b[0m \u001b[0mhook\u001b[0m\u001b[0;34m)\u001b[0m\u001b[0;34m:\u001b[0m\u001b[0;34m\u001b[0m\u001b[0m\n",
      "\u001b[0;32m~/anaconda3/envs/ada/lib/python3.6/site-packages/torch/autograd/__init__.py\u001b[0m in \u001b[0;36mbackward\u001b[0;34m(variables, grad_variables, retain_graph, create_graph, retain_variables)\u001b[0m\n\u001b[1;32m     85\u001b[0m         \u001b[0mgrad_variables\u001b[0m \u001b[0;34m=\u001b[0m \u001b[0mlist\u001b[0m\u001b[0;34m(\u001b[0m\u001b[0mgrad_variables\u001b[0m\u001b[0;34m)\u001b[0m\u001b[0;34m\u001b[0m\u001b[0m\n\u001b[1;32m     86\u001b[0m \u001b[0;34m\u001b[0m\u001b[0m\n\u001b[0;32m---> 87\u001b[0;31m     \u001b[0mgrad_variables\u001b[0m\u001b[0;34m,\u001b[0m \u001b[0mcreate_graph\u001b[0m \u001b[0;34m=\u001b[0m \u001b[0m_make_grads\u001b[0m\u001b[0;34m(\u001b[0m\u001b[0mvariables\u001b[0m\u001b[0;34m,\u001b[0m \u001b[0mgrad_variables\u001b[0m\u001b[0;34m,\u001b[0m \u001b[0mcreate_graph\u001b[0m\u001b[0;34m)\u001b[0m\u001b[0;34m\u001b[0m\u001b[0m\n\u001b[0m\u001b[1;32m     88\u001b[0m \u001b[0;34m\u001b[0m\u001b[0m\n\u001b[1;32m     89\u001b[0m     \u001b[0;32mif\u001b[0m \u001b[0mretain_variables\u001b[0m \u001b[0;32mis\u001b[0m \u001b[0;32mnot\u001b[0m \u001b[0;32mNone\u001b[0m\u001b[0;34m:\u001b[0m\u001b[0;34m\u001b[0m\u001b[0m\n",
      "\u001b[0;32m~/anaconda3/envs/ada/lib/python3.6/site-packages/torch/autograd/__init__.py\u001b[0m in \u001b[0;36m_make_grads\u001b[0;34m(outputs, grads, user_create_graph)\u001b[0m\n\u001b[1;32m     33\u001b[0m             \u001b[0;32mif\u001b[0m \u001b[0mout\u001b[0m\u001b[0;34m.\u001b[0m\u001b[0mrequires_grad\u001b[0m\u001b[0;34m:\u001b[0m\u001b[0;34m\u001b[0m\u001b[0m\n\u001b[1;32m     34\u001b[0m                 \u001b[0;32mif\u001b[0m \u001b[0mout\u001b[0m\u001b[0;34m.\u001b[0m\u001b[0mnumel\u001b[0m\u001b[0;34m(\u001b[0m\u001b[0;34m)\u001b[0m \u001b[0;34m!=\u001b[0m \u001b[0;36m1\u001b[0m\u001b[0;34m:\u001b[0m\u001b[0;34m\u001b[0m\u001b[0m\n\u001b[0;32m---> 35\u001b[0;31m                     \u001b[0;32mraise\u001b[0m \u001b[0mRuntimeError\u001b[0m\u001b[0;34m(\u001b[0m\u001b[0;34m\"grad can be implicitly created only for scalar outputs\"\u001b[0m\u001b[0;34m)\u001b[0m\u001b[0;34m\u001b[0m\u001b[0m\n\u001b[0m\u001b[1;32m     36\u001b[0m                 \u001b[0mdata\u001b[0m \u001b[0;34m=\u001b[0m \u001b[0mout\u001b[0m\u001b[0;34m.\u001b[0m\u001b[0mdata\u001b[0m\u001b[0;34m\u001b[0m\u001b[0m\n\u001b[1;32m     37\u001b[0m                 new_grads.append(\n",
      "\u001b[0;31mRuntimeError\u001b[0m: grad can be implicitly created only for scalar outputs"
     ]
    }
   ],
   "source": [
    "a = tVariable(FloatTensor([2, 5]), requires_grad=True)\n",
    "b = tVariable(FloatTensor([10]), requires_grad=True)\n",
    "c = a*b\n",
    "c.mean().backward()\n",
    "a.grad, b.grad"
   ]
  },
  {
   "cell_type": "code",
   "execution_count": 3,
   "metadata": {},
   "outputs": [
    {
     "name": "stdout",
     "output_type": "stream",
     "text": [
      "sub\n",
      "add\n",
      "div\n",
      "matmul\n",
      "pow\n"
     ]
    }
   ],
   "source": [
    "a = Variable(FloatTensor([2]))\n",
    "b = Variable(FloatTensor([10]))\n",
    "a*b\n",
    "a-b\n",
    "a+b\n",
    "a/b\n",
    "a@b\n",
    "a**4"
   ]
  },
  {
   "cell_type": "code",
   "execution_count": 12,
   "metadata": {
    "collapsed": true
   },
   "outputs": [],
   "source": [
    "# import torch\n",
    "from torch import FloatTensor, is_tensor\n",
    "from hotgrad.functions import layers, activations, losses, operands\n",
    "from torch.nn import CrossEntropyLoss, MSELoss\n",
    "from torch.autograd import Variable as tVariable\n",
    "\n",
    "from hotgrad.variable import Variable\n",
    "from torch import FloatTensor\n",
    "from torch.autograd import Variable as tVariable\n",
    "from hotgrad.functions.losses import MSE\n",
    "from hotgrad.sequential import Sequential\n",
    "from hotgrad.optimizers import SGD\n",
    "\n",
    "my_mse = MSE()\n",
    "mse_comp = MSELoss()\n",
    "#%load_ext autoreload\n",
    "#%autoreload 2\n",
    "\n",
    "a = Variable(FloatTensor([1, 2, 6, 4]), requires_grad=True)\n",
    "b = Variable(FloatTensor([2,3,4,5]), requires_grad=True)\n",
    "# b = FloatTensor([2,3,4,5])\n",
    "# b = 2\n",
    "# c = a.pow(b)\n",
    "# c = a ** b\n",
    "#d = a.mse(b)\n",
    "#d = my_mse.forward(a, b)\n",
    "d = my_mse(a, b)\n",
    "#d = c.mean()\n",
    "\n",
    "a2 = tVariable(FloatTensor([1, 2, 6, 4]), requires_grad=True)\n",
    "b2 = tVariable(FloatTensor([2, 3, 4, 5]))\n",
    "c2 = a2.pow(b2)\n",
    "d2 = mse_comp(a2, b2)\n",
    "#d22 = c2.mean()"
   ]
  },
  {
   "cell_type": "code",
   "execution_count": 13,
   "metadata": {},
   "outputs": [
    {
     "data": {
      "text/plain": [
       "(Variable containing:\n",
       "  1.7500\n",
       " [torch.FloatTensor of size 1], Variable containing:\n",
       "  1.7500\n",
       " [torch.FloatTensor of size 1])"
      ]
     },
     "execution_count": 13,
     "metadata": {},
     "output_type": "execute_result"
    }
   ],
   "source": [
    "d.backward()\n",
    "d2.backward()\n",
    "d, d2, "
   ]
  },
  {
   "cell_type": "code",
   "execution_count": 9,
   "metadata": {},
   "outputs": [
    {
     "data": {
      "text/plain": [
       "Variable containing:\n",
       " 1.6500\n",
       "[torch.FloatTensor of size 1]"
      ]
     },
     "execution_count": 9,
     "metadata": {},
     "output_type": "execute_result"
    }
   ],
   "source": [
    "d2"
   ]
  },
  {
   "cell_type": "code",
   "execution_count": 21,
   "metadata": {
    "collapsed": true
   },
   "outputs": [],
   "source": [
    "#input_grad = FloatTensor([1])\n",
    "d.backward()\n",
    "d2.backward()\n",
    "#d.input"
   ]
  },
  {
   "cell_type": "code",
   "execution_count": 23,
   "metadata": {},
   "outputs": [
    {
     "data": {
      "text/plain": [
       "(Variable containing:\n",
       "  1\n",
       " [torch.FloatTensor of size 1], Variable containing:\n",
       "  1\n",
       " [torch.FloatTensor of size 1], \n",
       " -0.5000\n",
       " -0.5000\n",
       " -0.5000\n",
       " -0.5000\n",
       " [torch.FloatTensor of size 4], Variable containing:\n",
       " -0.5000\n",
       " -0.5000\n",
       " -0.5000\n",
       " -0.5000\n",
       " [torch.FloatTensor of size 4])"
      ]
     },
     "execution_count": 23,
     "metadata": {},
     "output_type": "execute_result"
    }
   ],
   "source": [
    "#d, d22, a.grad, a2.grad\n",
    "d, d, a.grad, a2.grad"
   ]
  },
  {
   "cell_type": "code",
   "execution_count": 12,
   "metadata": {
    "collapsed": true
   },
   "outputs": [],
   "source": [
    "asd = FloatTensor([1, 2, 6, 4])"
   ]
  },
  {
   "cell_type": "code",
   "execution_count": 15,
   "metadata": {},
   "outputs": [
    {
     "data": {
      "text/plain": [
       "\n",
       " 1\n",
       " 1\n",
       " 1\n",
       " 1\n",
       "[torch.FloatTensor of size 4]"
      ]
     },
     "execution_count": 15,
     "metadata": {},
     "output_type": "execute_result"
    }
   ],
   "source": [
    "asd.fill_(1)"
   ]
  },
  {
   "cell_type": "code",
   "execution_count": 4,
   "metadata": {},
   "outputs": [
    {
     "data": {
      "text/plain": [
       "(MSE operator:\n",
       " \n",
       " ------ Left operand ------\n",
       " None\n",
       " --------------------------\n",
       " \n",
       " ------ Right operand ------\n",
       " None\n",
       " --------------------------, <hotgrad.optimizers.SGD at 0x7fe9e9c65cc0>)"
      ]
     },
     "execution_count": 4,
     "metadata": {},
     "output_type": "execute_result"
    }
   ],
   "source": [
    "loss = MSE()\n",
    "optimizer = SGD()\n",
    "\n",
    "#seq = Sequential(, loss, optimizer)\n",
    "\n",
    "loss, optimizer"
   ]
  },
  {
   "cell_type": "code",
   "execution_count": 28,
   "metadata": {
    "scrolled": true
   },
   "outputs": [
    {
     "name": "stdout",
     "output_type": "stream",
     "text": [
      "----------------- fold 1/4 -----------------\n",
      "Epoch 0: Train loss: 1.7221800088882446. Train accuracy 0.50%. \n",
      "Epoch 1: Train loss: 1.7101560831069946. Train accuracy 0.50%. \n",
      "Epoch 2: Train loss: 1.6974973678588867. Train accuracy 0.50%. \n",
      "Epoch 3: Train loss: 1.684207558631897. Train accuracy 0.50%. \n",
      "Epoch 4: Train loss: 1.670312523841858. Train accuracy 0.50%. \n",
      "Epoch 5: Train loss: 1.6558458805084229. Train accuracy 0.50%. \n",
      "Epoch 6: Train loss: 1.640859603881836. Train accuracy 0.50%. \n",
      "Epoch 7: Train loss: 1.6254531145095825. Train accuracy 0.50%. \n",
      "Epoch 8: Train loss: 1.609761357307434. Train accuracy 0.50%. \n",
      "Epoch 9: Train loss: 1.5939304828643799. Train accuracy 0.50%. \n",
      "----------------- fold 1/4 -----------------\n",
      "Epoch 0: Train loss: 1.25308358669281. Train accuracy 0.34%. \n",
      "Epoch 1: Train loss: 1.2194130420684814. Train accuracy 0.35%. \n",
      "Epoch 2: Train loss: 1.1880013942718506. Train accuracy 0.37%. \n",
      "Epoch 3: Train loss: 1.1592906713485718. Train accuracy 0.39%. \n",
      "Epoch 4: Train loss: 1.1335643529891968. Train accuracy 0.40%. \n",
      "Epoch 5: Train loss: 1.110949158668518. Train accuracy 0.40%. \n",
      "Epoch 6: Train loss: 1.0914291143417358. Train accuracy 0.41%. \n",
      "Epoch 7: Train loss: 1.0748616456985474. Train accuracy 0.41%. \n",
      "Epoch 8: Train loss: 1.0610029697418213. Train accuracy 0.41%. \n",
      "Epoch 9: Train loss: 1.0495631694793701. Train accuracy 0.40%. \n",
      "----------------- fold 1/4 -----------------\n",
      "Epoch 0: Train loss: 1.2452964782714844. Train accuracy 0.51%. \n",
      "Epoch 1: Train loss: 1.2099331617355347. Train accuracy 0.51%. \n",
      "Epoch 2: Train loss: 1.1768242120742798. Train accuracy 0.51%. \n",
      "Epoch 3: Train loss: 1.1465210914611816. Train accuracy 0.51%. \n",
      "Epoch 4: Train loss: 1.1194146871566772. Train accuracy 0.51%. \n",
      "Epoch 5: Train loss: 1.0957196950912476. Train accuracy 0.51%. \n",
      "Epoch 6: Train loss: 1.0754910707473755. Train accuracy 0.51%. \n",
      "Epoch 7: Train loss: 1.0586315393447876. Train accuracy 0.51%. \n",
      "Epoch 8: Train loss: 1.0448485612869263. Train accuracy 0.51%. \n",
      "Epoch 9: Train loss: 1.0337551832199097. Train accuracy 0.51%. \n",
      "----------------- fold 1/4 -----------------\n",
      "Epoch 0: Train loss: 1.3381843566894531. Train accuracy 0.48%. \n",
      "Epoch 1: Train loss: 1.3119256496429443. Train accuracy 0.48%. \n",
      "Epoch 2: Train loss: 1.2823314666748047. Train accuracy 0.48%. \n",
      "Epoch 3: Train loss: 1.2487319707870483. Train accuracy 0.48%. \n",
      "Epoch 4: Train loss: 1.2111071348190308. Train accuracy 0.48%. \n",
      "Epoch 5: Train loss: 1.17030668258667. Train accuracy 0.48%. \n",
      "Epoch 6: Train loss: 1.1283938884735107. Train accuracy 0.48%. \n",
      "Epoch 7: Train loss: 1.0885467529296875. Train accuracy 0.48%. \n",
      "Epoch 8: Train loss: 1.054154634475708. Train accuracy 0.48%. \n",
      "Epoch 9: Train loss: 1.0274516344070435. Train accuracy 0.48%. \n"
     ]
    },
    {
     "data": {
      "text/plain": [
       "{'test_score': [0.476, 0.386, 0.508, 0.518],\n",
       " 'train_score': [0.498, 0.404, 0.5073333333333333, 0.484]}"
      ]
     },
     "execution_count": 28,
     "metadata": {},
     "output_type": "execute_result"
    }
   ],
   "source": [
    "from hotgrad.variable import Variable\n",
    "from torch import FloatTensor\n",
    "from hotgrad.sequential import Sequential\n",
    "from hotgrad.functions.layers import Linear\n",
    "from hotgrad.functions.activations import ReLU, Tanh\n",
    "from hotgrad.functions.losses import MSE\n",
    "from hotgrad.optimizers import SGD\n",
    "import torch\n",
    "\n",
    "from dataset_generator import generate_dataset\n",
    "\n",
    "# generate the dataset\n",
    "X_train, X_test, y_train, y_test = generate_dataset(1000, one_hot_encoding=True)\n",
    "y_train.data = y_train.data*2-1\n",
    "y_test.data = y_test.data*2-1\n",
    "\n",
    "X_train.data = (X_train.data - X_train.data.mean())/X_train.data.std() \n",
    "X_test.data = (X_test.data - X_test.data.mean())/X_test.data.std()\n",
    "\n",
    "X_all = Variable(torch.cat((X_train.data, X_test.data), 0))\n",
    "y_all = Variable(torch.cat((y_train.data, y_test.data), 0))\n",
    "\n",
    "# model: two input units, two output units, three hidden layers of 25 units\n",
    "modules = [Linear(2,25), ReLU(), Linear(25,25), ReLU(), Linear(25,25), ReLU(), Linear(25,2)]\n",
    "# model = Sequential([Linear(2,25), ReLU(), Linear(25,25), ReLU(), Linear(25,25), ReLU(), Linear(25,2)], MSE(), SGD(lr=0.01))\n",
    "\n",
    "torch.manual_seed(4)\n",
    "# model = Sequential([Linear(2,25, 4), ReLU(), Linear(25,25, 4), ReLU(), Linear(25,25, 4), ReLU(), Linear(25,2, 4), Tanh()], MSE(), SGD(lr=0.01))\n",
    "model = Sequential([Linear(2,25), ReLU(), Linear(25,25), ReLU(), Linear(25,25), ReLU(), Linear(25,2), Tanh()], MSE(), SGD(lr=0.01))\n",
    "\n",
    "# fitting the model\n",
    "# model.fit(X_train, y_train, X_test, y_test, epochs=10)\n",
    "model.cross_validate(X_all, y_all, epochs=10, verbose=True)"
   ]
  },
  {
   "cell_type": "code",
   "execution_count": 67,
   "metadata": {},
   "outputs": [
    {
     "data": {
      "text/plain": [
       "Variable containing:\n",
       "   -1     1\n",
       "   -1     1\n",
       "   -1     1\n",
       "     ⋮      \n",
       "    1    -1\n",
       "    1    -1\n",
       "    1    -1\n",
       "[torch.FloatTensor of size 1000x2]"
      ]
     },
     "execution_count": 67,
     "metadata": {},
     "output_type": "execute_result"
    }
   ],
   "source": [
    "y_train"
   ]
  },
  {
   "cell_type": "code",
   "execution_count": 4,
   "metadata": {},
   "outputs": [
    {
     "data": {
      "text/plain": [
       "0.639"
      ]
     },
     "execution_count": 4,
     "metadata": {},
     "output_type": "execute_result"
    }
   ],
   "source": [
    "(model.predict(X_test).type(FloatTensor) == (y_test.data[:, 1]==1).type(FloatTensor)).type(FloatTensor).mean()"
   ]
  },
  {
   "cell_type": "code",
   "execution_count": 7,
   "metadata": {},
   "outputs": [
    {
     "data": {
      "text/plain": [
       "Variable containing:\n",
       " 1.0000 -0.9895\n",
       " 1.0000 -0.9999\n",
       " 1.0000 -1.0000\n",
       "       ⋮        \n",
       " 1.0000 -0.9923\n",
       " 1.0000 -1.0000\n",
       " 1.0000  1.0000\n",
       "[torch.FloatTensor of size 1000x2]"
      ]
     },
     "execution_count": 7,
     "metadata": {},
     "output_type": "execute_result"
    }
   ],
   "source": [
    "model.forward(X_test)"
   ]
  },
  {
   "cell_type": "code",
   "execution_count": 48,
   "metadata": {},
   "outputs": [
    {
     "name": "stdout",
     "output_type": "stream",
     "text": [
      "backward of MatMul\n",
      "backward of MatMul\n",
      "backward of MatMul\n",
      "backward of MatMul\n"
     ]
    }
   ],
   "source": [
    "output = model.forward(X_train)\n",
    "loss = model.loss_criterion(output, y_train)\n",
    "model.zero_grad()\n",
    "loss.backward()\n",
    "before = list(map(lambda x: x.data.clone(), model.params()))\n",
    "model.optimizer.step()\n",
    "after = model.params()"
   ]
  },
  {
   "cell_type": "code",
   "execution_count": 10,
   "metadata": {
    "collapsed": true
   },
   "outputs": [],
   "source": [
    "true_classes = y_train.data.max(1)[1] if y_train.data.dim() == 2 else y_train.data\n",
    "predicted = model.predict(X_train)"
   ]
  },
  {
   "cell_type": "code",
   "execution_count": 60,
   "metadata": {
    "collapsed": true
   },
   "outputs": [],
   "source": [
    "import math\n",
    "import numpy as np\n",
    "import matplotlib.pylab as plt\n",
    "# import dlc_bci as bci\n",
    "from types import SimpleNamespace \n",
    "\n",
    "from sklearn.model_selection import cross_validate\n",
    "from sklearn.preprocessing import StandardScaler\n",
    "from sklearn.decomposition import PCA\n",
    "\n",
    "# baselines\n",
    "from sklearn.linear_model import LogisticRegression\n",
    "from sklearn.ensemble import RandomForestClassifier\n",
    "from sklearn.neighbors import KNeighborsClassifier\n",
    "\n",
    "import torch \n",
    "from torch.nn import Conv2d, Linear, functional, Module, CrossEntropyLoss\n",
    "from torch import Tensor\n",
    "from torch.autograd import Variable\n",
    "from torch.optim import Adam\n",
    "import torch.nn.functional as F\n",
    "\n",
    "import matplotlib.pylab as plt\n",
    "\n",
    "def plot_scores(param, paramName, tr_scores, va_scores, log_scale=False):\n",
    "    plt.figure(figsize=(7, 5))\n",
    "    plt.grid()\n",
    "    plt.plot(param, tr_scores)\n",
    "    plt.plot(param, va_scores)\n",
    "    plt.legend(['train', 'validation'])\n",
    "    plt.xlabel(paramName)\n",
    "    plt.ylabel('Accuracy')\n",
    "    if log_scale:\n",
    "        plt.xscale('log')"
   ]
  },
  {
   "cell_type": "markdown",
   "metadata": {},
   "source": [
    "## Baselines:"
   ]
  },
  {
   "cell_type": "markdown",
   "metadata": {},
   "source": [
    "### Logistic regression"
   ]
  },
  {
   "cell_type": "code",
   "execution_count": 62,
   "metadata": {},
   "outputs": [
    {
     "name": "stdout",
     "output_type": "stream",
     "text": [
      "Best lambda: 1e-06\n",
      "Test score: 0.49\n"
     ]
    },
    {
     "data": {
      "image/png": "[encoded data removed]",
      "text/plain": [
       "<matplotlib.figure.Figure at 0x7f9d955c9b00>"
      ]
     },
     "metadata": {},
     "output_type": "display_data"
    }
   ],
   "source": [
    "import numpy as np\n",
    "\n",
    "lambdas = np.logspace(-6, 6, 20) # grid search on a parameter of the model\n",
    "\n",
    "# here we store all the scores obtained with the different lambdas\n",
    "logreg = {\n",
    "    \"tr_scores\": [],\n",
    "    \"va_scores\": []\n",
    "}\n",
    "\n",
    "for lambda_ in lambdas:\n",
    "    result = cross_validate(LogisticRegression(C=lambda_), X_train.data.numpy(), (y_train.data == 1)[:, 1].numpy(), cv=10, return_train_score=True)\n",
    "    \n",
    "    logreg[\"tr_scores\"].append(np.mean(result[\"train_score\"]))\n",
    "    logreg[\"va_scores\"].append(np.mean(result[\"test_score\"]))\n",
    "    \n",
    "plot_scores(lambdas, \"lambda\", logreg[\"tr_scores\"], logreg[\"va_scores\"], log_scale=True)\n",
    "\n",
    "best_lambda = lambdas[np.argmax(logreg[\"va_scores\"])]\n",
    "print('Best lambda:', best_lambda)\n",
    "print('Test score:', \n",
    "      LogisticRegression(C=best_lambda)\n",
    "      .fit(X_train.data.numpy(), (y_train.data == 1)[:, 1].numpy())\n",
    "      .score(X_test.data.numpy(), (y_test.data == 1)[:, 1].numpy()))"
   ]
  }
 ],
 "metadata": {
  "kernelspec": {
   "display_name": "Python 3",
   "language": "python",
   "name": "python3"
  },
  "language_info": {
   "codemirror_mode": {
    "name": "ipython",
    "version": 3
   },
   "file_extension": ".py",
   "mimetype": "text/x-python",
   "name": "python",
   "nbconvert_exporter": "python",
   "pygments_lexer": "ipython3",
   "version": "3.6.4"
  }
 },
 "nbformat": 4,
 "nbformat_minor": 2
}
