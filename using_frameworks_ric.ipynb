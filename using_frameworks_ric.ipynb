{
 "cells": [
  {
   "cell_type": "code",
   "execution_count": 9,
   "metadata": {},
   "outputs": [],
   "source": [
    "from hotgrad.variable import Variable\n",
    "from hotgrad.functions.activations import ReLU, Tanh\n",
    "from hotgrad.functions.layers import Linear\n",
    "from torch import FloatTensor\n",
    "from torch.autograd import Variable as tVariable\n",
    "from torch.nn import Linear as tLinear"
   ]
  },
  {
   "cell_type": "code",
   "execution_count": 10,
   "metadata": {},
   "outputs": [
    {
     "data": {
      "text/plain": [
       "Variable containing:\n",
       "-0.1334\n",
       " 1.4843\n",
       " 1.2336\n",
       "-0.4133\n",
       "-1.2828\n",
       "-0.7190\n",
       "[torch.FloatTensor of size 6]"
      ]
     },
     "execution_count": 10,
     "metadata": {},
     "output_type": "execute_result"
    }
   ],
   "source": [
    "mt = tLinear(3, 6, bias=False)\n",
    "input = tVariable(FloatTensor([2, 0, -1]), requires_grad=True)\n",
    "mt.forward(input)"
   ]
  },
  {
   "cell_type": "code",
   "execution_count": 11,
   "metadata": {},
   "outputs": [
    {
     "data": {
      "text/plain": [
       "Variable containing:\n",
       "-0.1334\n",
       " 1.4843\n",
       " 1.2336\n",
       "-0.4133\n",
       "-1.2828\n",
       "-0.7190\n",
       "[torch.FloatTensor of size 6]"
      ]
     },
     "execution_count": 11,
     "metadata": {},
     "output_type": "execute_result"
    }
   ],
   "source": [
    "input = Variable(FloatTensor([2, 0, -1]), requires_grad=True)\n",
    "m = Linear(3,6)\n",
    "m.weight.data = mt.weight.data.t()\n",
    "m.forward(input)"
   ]
  },
  {
   "cell_type": "code",
   "execution_count": 12,
   "metadata": {},
   "outputs": [
    {
     "data": {
      "text/plain": [
       "Variable containing:\n",
       "-0.0166 -0.1263 -0.0855\n",
       "[torch.FloatTensor of size 1x3]"
      ]
     },
     "execution_count": 12,
     "metadata": {},
     "output_type": "execute_result"
    }
   ],
   "source": [
    "input = tVariable(FloatTensor([[2, 0, -1]]), requires_grad=True)\n",
    "mt = tLinear(3, 6)\n",
    "mt.forward(input).mean().backward()\n",
    "input.grad"
   ]
  },
  {
   "cell_type": "code",
   "execution_count": 13,
   "metadata": {},
   "outputs": [
    {
     "data": {
      "text/plain": [
       "\n",
       "-0.6414 -0.5717  0.8348\n",
       "[torch.FloatTensor of size 1x3]"
      ]
     },
     "execution_count": 13,
     "metadata": {},
     "output_type": "execute_result"
    }
   ],
   "source": [
    "input = Variable(FloatTensor([[2, 0, -1]]), requires_grad=True)\n",
    "m = Linear(3,6)\n",
    "#m.weight.data = mt.weight.t().data\n",
    "m.forward(input).mean().backward()\n",
    "input.grad"
   ]
  },
  {
   "cell_type": "code",
   "execution_count": null,
   "metadata": {},
   "outputs": [],
   "source": []
  },
  {
   "cell_type": "code",
   "execution_count": 41,
   "metadata": {},
   "outputs": [],
   "source": [
    "import random\n",
    "import math\n",
    "from pytorch import FloatTensor\n",
    "\n",
    "def generate_dataset():\n",
    "    N = 1000\n",
    "    r = 1/math.sqrt(2*math.pi)\n",
    "    X_train = FloatTensor([[random.uniform(0, 1), random.uniform(0, 1)] for a in range(N)])\n",
    "    X_test  = FloatTensor([[random.uniform(0, 1), random.uniform(0, 1)] for a in range(N)])\n",
    "    y_train = (X_train[:, 0]**2 + X_train[:, 1]**2 > r**2).type(FloatTensor)\n",
    "    y_test  = (X_test[:, 0]**2 + X_test[:, 1]**2 > r**2).type(FloatTensor)\n",
    "    return X_train, X_test, y_train, y_test"
   ]
  },
  {
   "cell_type": "code",
   "execution_count": null,
   "metadata": {},
   "outputs": [],
   "source": []
  }
 ],
 "metadata": {
  "kernelspec": {
   "display_name": "Python 3",
   "language": "python",
   "name": "python3"
  },
  "language_info": {
   "codemirror_mode": {
    "name": "ipython",
    "version": 3
   },
   "file_extension": ".py",
   "mimetype": "text/x-python",
   "name": "python",
   "nbconvert_exporter": "python",
   "pygments_lexer": "ipython3",
   "version": "3.6.3"
  }
 },
 "nbformat": 4,
 "nbformat_minor": 2
}
